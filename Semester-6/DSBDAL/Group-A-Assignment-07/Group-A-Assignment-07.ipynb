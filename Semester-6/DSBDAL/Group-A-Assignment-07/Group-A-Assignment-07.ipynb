{
 "cells": [
  {
   "cell_type": "code",
   "execution_count": null,
   "id": "1ddca802",
   "metadata": {},
   "outputs": [],
   "source": [
    "'''\n",
    "Problem Statement\n",
    "Text Analytics\n",
    "1. Extract Sample document and apply following document preprocessing methods:\n",
    "Tokenization, POS Tagging, stop words removal, Stemming and Lemmatization.\n",
    "2. Create representation of document by calculating Term Frequency and Inverse Document \n",
    "Frequency.\n",
    "'''"
   ]
  },
  {
   "cell_type": "code",
   "execution_count": 1,
   "id": "5b63bffc",
   "metadata": {},
   "outputs": [],
   "source": [
    "# Creating the sample documents\n",
    "sentence_1 = \"I will walk 500 miles and I would walk 500 more. Just to be the man who walks \" + \"a thousand miles and fall down on your door!\"\n",
    "sentence_2 = \"I played the play playfully as the players were playing in the play with playfullness\""
   ]
  },
  {
   "cell_type": "code",
   "execution_count": null,
   "id": "cca65683",
   "metadata": {},
   "outputs": [],
   "source": [
    "# 1. Tokenization"
   ]
  },
  {
   "cell_type": "code",
   "execution_count": 2,
   "id": "8ce84abc",
   "metadata": {},
   "outputs": [
    {
     "name": "stderr",
     "output_type": "stream",
     "text": [
      "[nltk_data] Downloading package punkt to C:\\Users\\Aditya\n",
      "[nltk_data]     Padwal\\AppData\\Roaming\\nltk_data...\n",
      "[nltk_data]   Package punkt is already up-to-date!\n"
     ]
    },
    {
     "data": {
      "text/plain": [
       "True"
      ]
     },
     "execution_count": 2,
     "metadata": {},
     "output_type": "execute_result"
    }
   ],
   "source": [
    "import nltk\n",
    "from nltk import word_tokenize, sent_tokenize\n",
    "nltk.download('punkt')"
   ]
  },
  {
   "cell_type": "code",
   "execution_count": 5,
   "id": "9961b032",
   "metadata": {},
   "outputs": [
    {
     "name": "stdout",
     "output_type": "stream",
     "text": [
      "Tokenized words from sentense_1:  ['I', 'will', 'walk', '500', 'miles', 'and', 'I', 'would', 'walk', '500', 'more', '.', 'Just', 'to', 'be', 'the', 'man', 'who', 'walks', 'a', 'thousand', 'miles', 'and', 'fall', 'down', 'on', 'your', 'door', '!']\n",
      "Tokenized words from sentense_2:  ['I', 'played', 'the', 'play', 'playfully', 'as', 'the', 'players', 'were', 'playing', 'in', 'the', 'play', 'with', 'playfullness']\n",
      "Tokenized sentences from sentense_1:  ['I will walk 500 miles and I would walk 500 more.', 'Just to be the man who walks a thousand miles and fall down on your door!']\n",
      "Tokenized sentences from sentense_2:  ['I played the play playfully as the players were playing in the play with playfullness']\n"
     ]
    }
   ],
   "source": [
    "print(\"Tokenized words from sentense_1: \", word_tokenize(sentence_1))\n",
    "print(\"Tokenized words from sentense_2: \", word_tokenize(sentence_2))\n",
    "\n",
    "print(\"Tokenized sentences from sentense_1: \", sent_tokenize(sentence_1))\n",
    "print(\"Tokenized sentences from sentense_2: \", sent_tokenize(sentence_2))"
   ]
  },
  {
   "cell_type": "code",
   "execution_count": 6,
   "id": "4fd83ea8",
   "metadata": {},
   "outputs": [],
   "source": [
    "# 2. POS Tagging"
   ]
  },
  {
   "cell_type": "code",
   "execution_count": 8,
   "id": "03c92d53",
   "metadata": {},
   "outputs": [
    {
     "name": "stderr",
     "output_type": "stream",
     "text": [
      "[nltk_data] Downloading package averaged_perceptron_tagger to\n",
      "[nltk_data]     C:\\Users\\Aditya Padwal\\AppData\\Roaming\\nltk_data...\n",
      "[nltk_data]   Unzipping taggers\\averaged_perceptron_tagger.zip.\n"
     ]
    },
    {
     "data": {
      "text/plain": [
       "True"
      ]
     },
     "execution_count": 8,
     "metadata": {},
     "output_type": "execute_result"
    }
   ],
   "source": [
    "from nltk import pos_tag\n",
    "nltk.download('averaged_perceptron_tagger')\n"
   ]
  },
  {
   "cell_type": "code",
   "execution_count": 9,
   "id": "9251dfc9",
   "metadata": {},
   "outputs": [
    {
     "name": "stdout",
     "output_type": "stream",
     "text": [
      "Tagging Parts of Speech: [('I', 'PRP'), ('will', 'MD'), ('walk', 'VB'), ('500', 'CD'), ('miles', 'NNS'), ('and', 'CC'), ('I', 'PRP'), ('would', 'MD'), ('walk', 'VB'), ('500', 'CD'), ('more', 'JJR'), ('.', '.'), ('Just', 'NNP'), ('to', 'TO'), ('be', 'VB'), ('the', 'DT'), ('man', 'NN'), ('who', 'WP'), ('walks', 'VBZ'), ('a', 'DT'), ('thousand', 'NN'), ('miles', 'NNS'), ('and', 'CC'), ('fall', 'VBP'), ('down', 'RP'), ('on', 'IN'), ('your', 'PRP$'), ('door', 'NN'), ('!', '.'), ('I', 'PRP'), ('played', 'VBD'), ('the', 'DT'), ('play', 'NN'), ('playfully', 'RB'), ('as', 'IN'), ('the', 'DT'), ('players', 'NNS'), ('were', 'VBD'), ('playing', 'VBG'), ('in', 'IN'), ('the', 'DT'), ('play', 'NN'), ('with', 'IN'), ('playfullness', 'NN')]\n"
     ]
    }
   ],
   "source": [
    "token = word_tokenize(sentence_1) + word_tokenize(sentence_2)\n",
    "tagged = pos_tag(token)                 \n",
    "\n",
    "print(\"Tagging Parts of Speech:\", tagged)"
   ]
  },
  {
   "cell_type": "code",
   "execution_count": 10,
   "id": "210fb6fc",
   "metadata": {},
   "outputs": [],
   "source": [
    "# 3. Stop-Words Removal "
   ]
  },
  {
   "cell_type": "code",
   "execution_count": 13,
   "id": "25448237",
   "metadata": {},
   "outputs": [
    {
     "name": "stderr",
     "output_type": "stream",
     "text": [
      "[nltk_data] Downloading package stopwords to C:\\Users\\Aditya\n",
      "[nltk_data]     Padwal\\AppData\\Roaming\\nltk_data...\n",
      "[nltk_data]   Unzipping corpora\\stopwords.zip.\n"
     ]
    },
    {
     "data": {
      "text/plain": [
       "True"
      ]
     },
     "execution_count": 13,
     "metadata": {},
     "output_type": "execute_result"
    }
   ],
   "source": [
    "from nltk.corpus import stopwords\n",
    "nltk.download('stopwords')"
   ]
  },
  {
   "cell_type": "code",
   "execution_count": 15,
   "id": "aa65be01",
   "metadata": {},
   "outputs": [
    {
     "name": "stdout",
     "output_type": "stream",
     "text": [
      "Unclean version: ['I', 'will', 'walk', '500', 'miles', 'and', 'I', 'would', 'walk', '500', 'more', '.', 'Just', 'to', 'be', 'the', 'man', 'who', 'walks', 'a', 'thousand', 'miles', 'and', 'fall', 'down', 'on', 'your', 'door', '!']\n",
      "\n",
      "Cleaned version: ['I', 'walk', '500', 'miles', 'I', 'would', 'walk', '500', '.', 'Just', 'man', 'walks', 'thousand', 'miles', 'fall', 'door', '!']\n",
      "Unclean version: ['I', 'played', 'the', 'play', 'playfully', 'as', 'the', 'players', 'were', 'playing', 'in', 'the', 'play', 'with', 'playfullness']\n",
      "\n",
      "Cleaned version: ['I', 'played', 'play', 'playfully', 'players', 'playing', 'play', 'playfullness']\n"
     ]
    }
   ],
   "source": [
    "stop_words = stopwords.words('english')\n",
    "\n",
    "token_one = word_tokenize(sentence_1)\n",
    "cleaned_token_one = []\n",
    "\n",
    "for word in token_one:\n",
    "    if word not in stop_words:\n",
    "        cleaned_token_one.append(word)\n",
    "\n",
    "print('Unclean version of sentence_1:', token_one)\n",
    "print('\\nCleaned version of sentence_1:', cleaned_token_one)\n",
    "\n",
    "token_two = word_tokenize(sentence_2)\n",
    "cleaned_token_two = []\n",
    "\n",
    "for word in token_two:\n",
    "    if word not in stop_words:\n",
    "        cleaned_token_two.append(word)\n",
    "\n",
    "print('Unclean version of sentence_:', token_two)\n",
    "print('\\nCleaned version:', cleaned_token_two)"
   ]
  },
  {
   "cell_type": "code",
   "execution_count": 16,
   "id": "6868a12f",
   "metadata": {},
   "outputs": [],
   "source": [
    "# 4. Stemming"
   ]
  },
  {
   "cell_type": "code",
   "execution_count": 17,
   "id": "8b74fb04",
   "metadata": {},
   "outputs": [],
   "source": [
    "from nltk.stem import PorterStemmer"
   ]
  },
  {
   "cell_type": "code",
   "execution_count": 20,
   "id": "562bab33",
   "metadata": {},
   "outputs": [
    {
     "name": "stdout",
     "output_type": "stream",
     "text": [
      "Performing stemming on sentence_1\n",
      "i will walk 500 mile and i would walk 500 more . just to be the man who walk a thousand mile and fall down on your door !\n",
      "Performing stemming on sentence_2\n",
      "i play the play play as the player were play in the play with playful\n"
     ]
    }
   ],
   "source": [
    "stemmer = PorterStemmer()\n",
    "\n",
    "token_one = word_tokenize(sentence_1)\n",
    "token_two = word_tokenize(sentence_2)\n",
    "\n",
    "stemmed_one = [stemmer.stem(word) for word in token_one]\n",
    "stemmed_two = [stemmer.stem(word) for word in token_two]\n",
    "\n",
    "print(\"Performing stemming on sentence_1\")\n",
    "print(\" \".join(stemmed_one))\n",
    "\n",
    "print(\"Performing stemming on sentence_2\")\n",
    "print(\" \".join(stemmed_two))"
   ]
  },
  {
   "cell_type": "code",
   "execution_count": 21,
   "id": "d044efb5",
   "metadata": {},
   "outputs": [],
   "source": [
    "# 5. Lemmatization"
   ]
  },
  {
   "cell_type": "code",
   "execution_count": 26,
   "id": "44b03407",
   "metadata": {},
   "outputs": [
    {
     "name": "stderr",
     "output_type": "stream",
     "text": [
      "[nltk_data] Downloading package wordnet to C:\\Users\\Aditya\n",
      "[nltk_data]     Padwal\\AppData\\Roaming\\nltk_data...\n",
      "[nltk_data]   Package wordnet is already up-to-date!\n",
      "[nltk_data] Downloading package omw-1.4 to C:\\Users\\Aditya\n",
      "[nltk_data]     Padwal\\AppData\\Roaming\\nltk_data...\n"
     ]
    },
    {
     "data": {
      "text/plain": [
       "True"
      ]
     },
     "execution_count": 26,
     "metadata": {},
     "output_type": "execute_result"
    }
   ],
   "source": [
    "from nltk.stem import WordNetLemmatizer \n",
    "nltk.download('wordnet')\n",
    "nltk.download('omw-1.4')"
   ]
  },
  {
   "cell_type": "code",
   "execution_count": 27,
   "id": "a704e17a",
   "metadata": {},
   "outputs": [
    {
     "name": "stdout",
     "output_type": "stream",
     "text": [
      "I will walk 500 mile and I would walk 500 more . Just to be the man who walk a thousand mile and fall down on your door !\n",
      "I played the play playfully a the player were playing in the play with playfullness\n"
     ]
    }
   ],
   "source": [
    "lemmatizer = WordNetLemmatizer()\n",
    "\n",
    "token_one = word_tokenize(sentence_1)\n",
    "lemmatized_output_one = [lemmatizer.lemmatize(word) for word in token_one]\n",
    "print(\" \".join(lemmatized_output_one))\n",
    "\n",
    "token_two = word_tokenize(sentence_2)\n",
    "lemmatized_output_two = [lemmatizer.lemmatize(word) for word in token_two]\n",
    "print(\" \".join(lemmatized_output_two))"
   ]
  },
  {
   "cell_type": "code",
   "execution_count": null,
   "id": "fbc184f4",
   "metadata": {},
   "outputs": [],
   "source": []
  }
 ],
 "metadata": {
  "kernelspec": {
   "display_name": "Python 3 (ipykernel)",
   "language": "python",
   "name": "python3"
  },
  "language_info": {
   "codemirror_mode": {
    "name": "ipython",
    "version": 3
   },
   "file_extension": ".py",
   "mimetype": "text/x-python",
   "name": "python",
   "nbconvert_exporter": "python",
   "pygments_lexer": "ipython3",
   "version": "3.10.9"
  }
 },
 "nbformat": 4,
 "nbformat_minor": 5
}
