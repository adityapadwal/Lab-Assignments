{
 "cells": [
  {
   "cell_type": "code",
   "execution_count": 1,
   "id": "0fec325e",
   "metadata": {},
   "outputs": [],
   "source": [
    "# Problem Statement\n",
    "# Classification using Deep neural network\n",
    "\n",
    "# Binary classification using Deep Neural Networks \n",
    "# Example: Classify movie reviews into positive\" reviews and \"negative\" reviews, \n",
    "# just based on the text content of the reviews. Use IMDB dataset."
   ]
  },
  {
   "cell_type": "code",
   "execution_count": 2,
   "id": "71705308",
   "metadata": {},
   "outputs": [],
   "source": [
    "# The IMDB Dataset\n",
    "# The IMDB dataset is a set of 50,000 highly polarized reviews from the Internet Movie Database. \n",
    "# They are split into 25000 reviews each for training and testing. \n",
    "# Each set contains equal number (50%) of positive and negative reviews.\n",
    "\n",
    "# The IMDB dataset comes packaged with Keras. \n",
    "# It consists of reviews and their corresponding labels \n",
    "# (0 for negative and 1 for positive review). \n",
    "# The reviews are a sequence of words. \n",
    "# They come preprocessed as sequence of integers, where each integer stands for a specific word in the dictionary.\n",
    "\n",
    "# The IMDB datset can be loaded directly from Keras and will usually download about 80 MB on your machine."
   ]
  },
  {
   "cell_type": "code",
   "execution_count": 3,
   "id": "f3413936",
   "metadata": {},
   "outputs": [],
   "source": [
    "# Importing packages\n",
    "\n",
    "import numpy as np\n",
    "from keras.datasets import imdb\n",
    "from keras import models\n",
    "from keras import layers\n",
    "from keras import optimizers\n",
    "from keras import losses\n",
    "from keras import metrics\n",
    "\n",
    "\n",
    "import matplotlib.pyplot as plt\n",
    "%matplotlib inline"
   ]
  },
  {
   "cell_type": "code",
   "execution_count": 4,
   "id": "cf60407c",
   "metadata": {},
   "outputs": [],
   "source": [
    "# Load the data, keeping only 10,000 of the most frequently occuring words\n",
    "(train_data, train_labels), (test_data, test_labels) = imdb.load_data(num_words = 10000)"
   ]
  },
  {
   "cell_type": "code",
   "execution_count": 5,
   "id": "8d506528",
   "metadata": {},
   "outputs": [
    {
     "data": {
      "text/plain": [
       "[1,\n",
       " 14,\n",
       " 22,\n",
       " 16,\n",
       " 43,\n",
       " 530,\n",
       " 973,\n",
       " 1622,\n",
       " 1385,\n",
       " 65,\n",
       " 458,\n",
       " 4468,\n",
       " 66,\n",
       " 3941,\n",
       " 4,\n",
       " 173,\n",
       " 36,\n",
       " 256,\n",
       " 5,\n",
       " 25,\n",
       " 100,\n",
       " 43,\n",
       " 838,\n",
       " 112,\n",
       " 50,\n",
       " 670,\n",
       " 2,\n",
       " 9,\n",
       " 35,\n",
       " 480,\n",
       " 284,\n",
       " 5,\n",
       " 150,\n",
       " 4,\n",
       " 172,\n",
       " 112,\n",
       " 167,\n",
       " 2,\n",
       " 336,\n",
       " 385,\n",
       " 39,\n",
       " 4,\n",
       " 172,\n",
       " 4536,\n",
       " 1111,\n",
       " 17,\n",
       " 546,\n",
       " 38,\n",
       " 13,\n",
       " 447,\n",
       " 4,\n",
       " 192,\n",
       " 50,\n",
       " 16,\n",
       " 6,\n",
       " 147,\n",
       " 2025,\n",
       " 19,\n",
       " 14,\n",
       " 22,\n",
       " 4,\n",
       " 1920,\n",
       " 4613,\n",
       " 469,\n",
       " 4,\n",
       " 22,\n",
       " 71,\n",
       " 87,\n",
       " 12,\n",
       " 16,\n",
       " 43,\n",
       " 530,\n",
       " 38,\n",
       " 76,\n",
       " 15,\n",
       " 13,\n",
       " 1247,\n",
       " 4,\n",
       " 22,\n",
       " 17,\n",
       " 515,\n",
       " 17,\n",
       " 12,\n",
       " 16,\n",
       " 626,\n",
       " 18,\n",
       " 2,\n",
       " 5,\n",
       " 62,\n",
       " 386,\n",
       " 12,\n",
       " 8,\n",
       " 316,\n",
       " 8,\n",
       " 106,\n",
       " 5,\n",
       " 4,\n",
       " 2223,\n",
       " 5244,\n",
       " 16,\n",
       " 480,\n",
       " 66,\n",
       " 3785,\n",
       " 33,\n",
       " 4,\n",
       " 130,\n",
       " 12,\n",
       " 16,\n",
       " 38,\n",
       " 619,\n",
       " 5,\n",
       " 25,\n",
       " 124,\n",
       " 51,\n",
       " 36,\n",
       " 135,\n",
       " 48,\n",
       " 25,\n",
       " 1415,\n",
       " 33,\n",
       " 6,\n",
       " 22,\n",
       " 12,\n",
       " 215,\n",
       " 28,\n",
       " 77,\n",
       " 52,\n",
       " 5,\n",
       " 14,\n",
       " 407,\n",
       " 16,\n",
       " 82,\n",
       " 2,\n",
       " 8,\n",
       " 4,\n",
       " 107,\n",
       " 117,\n",
       " 5952,\n",
       " 15,\n",
       " 256,\n",
       " 4,\n",
       " 2,\n",
       " 7,\n",
       " 3766,\n",
       " 5,\n",
       " 723,\n",
       " 36,\n",
       " 71,\n",
       " 43,\n",
       " 530,\n",
       " 476,\n",
       " 26,\n",
       " 400,\n",
       " 317,\n",
       " 46,\n",
       " 7,\n",
       " 4,\n",
       " 2,\n",
       " 1029,\n",
       " 13,\n",
       " 104,\n",
       " 88,\n",
       " 4,\n",
       " 381,\n",
       " 15,\n",
       " 297,\n",
       " 98,\n",
       " 32,\n",
       " 2071,\n",
       " 56,\n",
       " 26,\n",
       " 141,\n",
       " 6,\n",
       " 194,\n",
       " 7486,\n",
       " 18,\n",
       " 4,\n",
       " 226,\n",
       " 22,\n",
       " 21,\n",
       " 134,\n",
       " 476,\n",
       " 26,\n",
       " 480,\n",
       " 5,\n",
       " 144,\n",
       " 30,\n",
       " 5535,\n",
       " 18,\n",
       " 51,\n",
       " 36,\n",
       " 28,\n",
       " 224,\n",
       " 92,\n",
       " 25,\n",
       " 104,\n",
       " 4,\n",
       " 226,\n",
       " 65,\n",
       " 16,\n",
       " 38,\n",
       " 1334,\n",
       " 88,\n",
       " 12,\n",
       " 16,\n",
       " 283,\n",
       " 5,\n",
       " 16,\n",
       " 4472,\n",
       " 113,\n",
       " 103,\n",
       " 32,\n",
       " 15,\n",
       " 16,\n",
       " 5345,\n",
       " 19,\n",
       " 178,\n",
       " 32]"
      ]
     },
     "execution_count": 5,
     "metadata": {},
     "output_type": "execute_result"
    }
   ],
   "source": [
    "# Train data \n",
    "train_data[0]"
   ]
  },
  {
   "cell_type": "code",
   "execution_count": 6,
   "id": "38173a7a",
   "metadata": {},
   "outputs": [
    {
     "data": {
      "text/plain": [
       "array([1, 0, 0, ..., 0, 1, 0], dtype=int64)"
      ]
     },
     "execution_count": 6,
     "metadata": {},
     "output_type": "execute_result"
    }
   ],
   "source": [
    "# Train labels\n",
    "train_labels"
   ]
  },
  {
   "cell_type": "code",
   "execution_count": 7,
   "id": "2745f849",
   "metadata": {},
   "outputs": [
    {
     "data": {
      "text/plain": [
       "1"
      ]
     },
     "execution_count": 7,
     "metadata": {},
     "output_type": "execute_result"
    }
   ],
   "source": [
    "# Check the first label\n",
    "train_labels[0]"
   ]
  },
  {
   "cell_type": "code",
   "execution_count": 8,
   "id": "72efb5e3",
   "metadata": {},
   "outputs": [
    {
     "name": "stdout",
     "output_type": "stream",
     "text": [
      "<class 'list'>\n"
     ]
    },
    {
     "data": {
      "text/plain": [
       "9999"
      ]
     },
     "execution_count": 8,
     "metadata": {},
     "output_type": "execute_result"
    }
   ],
   "source": [
    "# Since we restricted ourselves to the top 10000 frequent words, no word index should exceed 10000\n",
    "# we'll verify this below\n",
    "\n",
    "# Here is a list of maximum indexes in every review --- we search the maximum index in this list of max indexes\n",
    "print(type([max(sequence) for sequence in train_data]))\n",
    "\n",
    "# Find the maximum of all max indexes\n",
    "max([max(sequence) for sequence in train_data])"
   ]
  },
  {
   "cell_type": "code",
   "execution_count": 9,
   "id": "67ee4d3a",
   "metadata": {},
   "outputs": [
    {
     "data": {
      "text/plain": [
       "\"? this film was just brilliant casting location scenery story direction everyone's really suited the part they played and you could just imagine being there robert ? is an amazing actor and now the same being director ? father came from the same scottish island as myself so i loved the fact there was a real connection with this film the witty remarks throughout the film were great it was just brilliant so much that i bought the film as soon as it was released for ? and would recommend it to everyone to watch and the fly fishing was amazing really cried at the end it was so sad and you know what they say if you cry at a film it must have been good and this definitely was also ? to the two little boy's that played the ? of norman and paul they were just brilliant children are often left out of the ? list i think because the stars that play them all grown up are such a big profile for the whole film but these children are amazing and should be praised for what they have done don't you think the whole story was so lovely because it was true and was someone's life after all that was shared with us all\""
      ]
     },
     "execution_count": 9,
     "metadata": {},
     "output_type": "execute_result"
    }
   ],
   "source": [
    "# Let's quickly decode a review\n",
    "\n",
    "# step 1: load the dictionary mappings from word to integer index\n",
    "word_index = imdb.get_word_index()\n",
    "\n",
    "# step 2: reverse word index to map integer indexes to their respective words\n",
    "reverse_word_index = dict([(value, key) for (key, value) in word_index.items()])\n",
    "\n",
    "# Step 3: decode the review, mapping integer indices to words\n",
    "# indices are off by 3 because 0, 1, and 2 are reserverd indices for \"padding\", \"Start of sequence\" and \"unknown\"\n",
    "decoded_review = ' '.join([reverse_word_index.get(i-3, '?') for i in train_data[0]])\n",
    "decoded_review"
   ]
  },
  {
   "cell_type": "code",
   "execution_count": 10,
   "id": "18c1e59d",
   "metadata": {},
   "outputs": [
    {
     "name": "stdout",
     "output_type": "stream",
     "text": [
      "88584\n"
     ]
    }
   ],
   "source": [
    "print(len(reverse_word_index))"
   ]
  },
  {
   "cell_type": "code",
   "execution_count": 11,
   "id": "3c943653",
   "metadata": {},
   "outputs": [],
   "source": [
    "# Preparing the data\n",
    "\n",
    "# Vectorize input data\n",
    "# Input data, which consists of lists of integers representing words in reviews, \n",
    "# needs to be converted into tensors suitable for deep neural network input.\n",
    "# One-hot encoding will be applied to convert these lists into vectors of 0s and 1s.\n",
    "# Each review's vector will have a dimensionality of 10,000, \n",
    "# with 1s at indices corresponding to words present in the review \n",
    "# and 0s at indices corresponding to words absent in the review.\n",
    "# This manual vectorization process will result in tensors of shape (25000, 10000), \n",
    "# where 25,000 represents the number of reviews and 10,000 represents the dimensionality of each vector.\n",
    "\n",
    "# Clarifications\n",
    "# One-hot encoding is a common technique to represent categorical data, \n",
    "# where each category is represented by a binary vector with a length equal to the number of categories. \n",
    "# In this case, each word in the vocabulary corresponds to a category.\n",
    "# The resulting tensors will be quite sparse due to the large number of dimensions, \n",
    "# but they are suitable for processing by deep learning models."
   ]
  },
  {
   "cell_type": "code",
   "execution_count": 12,
   "id": "b4e6dd7c",
   "metadata": {},
   "outputs": [],
   "source": [
    "def vectorize_sequences(sequences, dimension=10000):\n",
    "    results = np.zeros((len(sequences), dimension))    # Creates an all zero matrix of shape (len(sequences),10K)\n",
    "    for i,sequence in enumerate(sequences):\n",
    "        results[i,sequence] = 1                        # Sets specific indices of results[i] to 1s\n",
    "    return results\n",
    "\n",
    "# Vectorize training Data\n",
    "X_train = vectorize_sequences(train_data)\n",
    "\n",
    "# Vectorize testing Data\n",
    "X_test = vectorize_sequences(test_data)"
   ]
  },
  {
   "cell_type": "code",
   "execution_count": 13,
   "id": "05c8bf20",
   "metadata": {},
   "outputs": [
    {
     "data": {
      "text/plain": [
       "array([0., 1., 1., ..., 0., 0., 0.])"
      ]
     },
     "execution_count": 13,
     "metadata": {},
     "output_type": "execute_result"
    }
   ],
   "source": [
    "X_train[0]"
   ]
  },
  {
   "cell_type": "code",
   "execution_count": 14,
   "id": "05a6da64",
   "metadata": {},
   "outputs": [
    {
     "data": {
      "text/plain": [
       "(25000, 10000)"
      ]
     },
     "execution_count": 14,
     "metadata": {},
     "output_type": "execute_result"
    }
   ],
   "source": [
    "X_train.shape"
   ]
  },
  {
   "cell_type": "code",
   "execution_count": 15,
   "id": "735c33c4",
   "metadata": {},
   "outputs": [],
   "source": [
    "# Vectorizing the labels\n",
    "Y_train = np.asarray(train_labels).astype('float32')\n",
    "Y_test  = np.asarray(test_labels).astype('float32')"
   ]
  },
  {
   "cell_type": "code",
   "execution_count": 16,
   "id": "065915d8",
   "metadata": {},
   "outputs": [],
   "source": [
    "# Building the network\n",
    "# Our input data is vectors which needs to be mapped to scaler labels (0s and 1s). \n",
    "# This is one of the easiest setups and a simple stack of fully-connected, \n",
    "# Dense layers with relu activation perform quite well.\n",
    "\n",
    "# Hidden layers\n",
    "# In this network we will leverage hidden layers. we will define our layers as such.\n",
    "# Dense(16, activation='relu')\n",
    "\n",
    "# The output from a Dense layer with relu activation is genrated after a chain of tensor operations. \n",
    "# This chain of operations is implemented as\n",
    "# output = relu(dot(W, input) + b)\n",
    "# Where, W is the Weight matrix and b is the bias (tensor).\n",
    "\n",
    "# Having 16 hidden units means that the matrix W will be of the shape ( input_Dimension , 16 ). \n",
    "# In this case where the dimension of input vector is 10,000; the shape of Weight matrix will be (10000, 16). \n",
    "# If you were to represent this network as graph you would see 16 neurons in this hidden layer.\n",
    "\n",
    "# To put in in laymans terms, there will be 16 balls in this layer.\n",
    "# Each of these balls, or hidden units is a dimension in the representation space of the layer. \n",
    "# Representaion space is the set of all viable representaions for the data. \n",
    "# Every hidden layer composed of its hidden units aims to learns one specific transformation of the data, \n",
    "# or one feature/pattern from the data.\n",
    "\n",
    "# Hidden layers, simply put, are layers of mathematical functions each designed to produce an output specific \n",
    "# to an intended result. Hidden layers allow for the function of a neural network to be broken down into \n",
    "# specific transformations of the data. Each hidden layer function is specialized to produce a defined output.\n",
    "# For example, a hidden layer functions that are used to identify human eyes and ears may be used in conjunction \n",
    "# by subsequent layers to identify faces in images. \n",
    "# While the functions to identify eyes alone are not enough to independently recognize objects, \n",
    "# they can function jointly within a neural network."
   ]
  },
  {
   "cell_type": "code",
   "execution_count": 17,
   "id": "1ddc32fe",
   "metadata": {},
   "outputs": [],
   "source": [
    "# Model Architecture\n",
    "\n",
    "# 1. For our model we will use\n",
    "#     -> two intermediate layers with 16 hidden units each\n",
    "#     -> Third layer that will output the scalar sentiment prediction\n",
    "    \n",
    "# 2. Intermediate layers will use relu activation function. relu or Rectified linear unit function will zero out \n",
    "# the negative values.\n",
    "\n",
    "# 3. Sigmoid activation for the final layer or output layer. A sigmoid function \"squashes\" arbitary values into the [0,1] range.\n",
    "\n",
    "# There are formal principles that guide our appraoch in selecting the architectural attributes of a model. \n",
    "# These are not covered in this case study."
   ]
  },
  {
   "cell_type": "code",
   "execution_count": 19,
   "id": "180ab9a4",
   "metadata": {},
   "outputs": [],
   "source": [
    "# Model defination\n",
    "model = models.Sequential()\n",
    "model.add(layers.Dense(16, activation='relu', input_shape=(10000,)))\n",
    "model.add(layers.Dense(16, activation='relu'))\n",
    "model.add(layers.Dense(1, activation='sigmoid'))"
   ]
  },
  {
   "cell_type": "code",
   "execution_count": 20,
   "id": "a85e09e7",
   "metadata": {},
   "outputs": [],
   "source": [
    "# Compiling the model\n",
    "# In this step we will choose an optimizer, a loss function, and metrics to observe. We will go forward with\n",
    "\n",
    "# -> binary_crossentropy loss function, commonly used for Binary Classification\n",
    "# -> rmsprop optimizer and\n",
    "# -> accuracy as a measure of performance\n",
    "\n",
    "# We can pass our choices for optimizer, loss function and metrics as strings to the compile function because rmsprop, \n",
    "# binary_crossentropy and accuracy come packaged with Keras.\n",
    "\n",
    "# model.complie(\n",
    "#     optimizer='rmsprop',\n",
    "#     loss = 'binary_crossentropy',\n",
    "#     metrics = ['accuracy']\n",
    "# )\n",
    "# One could use a customized loss function or ortimizer by passing the custom class instance as argument to the loss, \n",
    "# optimizer or mertics fields.\n",
    "\n",
    "# In this example, we will implement our default choices, but, we will do so by passing class instances. \n",
    "# This is exactly how we would do it, if we had customized parameters."
   ]
  },
  {
   "cell_type": "code",
   "execution_count": 21,
   "id": "fdb6a814",
   "metadata": {},
   "outputs": [],
   "source": [
    "model.compile(\n",
    "    optimizer=optimizers.RMSprop(learning_rate=0.001),\n",
    "    loss = losses.binary_crossentropy,\n",
    "    metrics = [metrics.binary_accuracy]\n",
    ")"
   ]
  },
  {
   "cell_type": "code",
   "execution_count": 22,
   "id": "4d0dd40f",
   "metadata": {},
   "outputs": [],
   "source": [
    "# Setting up Validation\n",
    "# We will set aside a part of our training data for validation of the accuracy of the model as it trains. \n",
    "# A validation set enables us to monitor the progress of our model on previously unseen data as it goes throug epochs during training.\n",
    "\n",
    "# Validation steps help us fine tune the training parameters of the model\n",
    "# .fit function so as to avoid overfitting and under fitting of data."
   ]
  },
  {
   "cell_type": "code",
   "execution_count": 23,
   "id": "908345b8",
   "metadata": {},
   "outputs": [],
   "source": [
    "# # Input for Validation\n",
    "X_val = X_train[:10000] # first 10,000 for validation\n",
    "partial_X_train = X_train[10000:] # latter (10001 tp 15K) for partial training\n",
    "\n",
    "# Labels for validation\n",
    "Y_val = Y_train[:10000] # first 10,000 for validation\n",
    "partial_Y_train = Y_train[10000:] # latter (10001 tp 15K) for partial training"
   ]
  },
  {
   "cell_type": "code",
   "execution_count": 24,
   "id": "2f67bcb8",
   "metadata": {},
   "outputs": [],
   "source": [
    "# Training our model\n",
    "\n",
    "# Initially, we will train our models for 20 epochs in mini-batches of 512 samples. \n",
    "# We will aslo pass our validation set to the fit method.\n",
    "\n",
    "# Calling the fit method returns a History object. \n",
    "# This object contains a member history which stores all data about the training process including the values of observable \n",
    "# or monitored quantaties as the epochs proceed. We will save this object to better determine the fine tuning to be applied to the training step."
   ]
  },
  {
   "cell_type": "code",
   "execution_count": 25,
   "id": "90cc1008",
   "metadata": {},
   "outputs": [
    {
     "name": "stdout",
     "output_type": "stream",
     "text": [
      "Epoch 1/20\n",
      "\u001b[1m30/30\u001b[0m \u001b[32m━━━━━━━━━━━━━━━━━━━━\u001b[0m\u001b[37m\u001b[0m \u001b[1m2s\u001b[0m 29ms/step - binary_accuracy: 0.6873 - loss: 0.6025 - val_binary_accuracy: 0.8600 - val_loss: 0.4016\n",
      "Epoch 2/20\n",
      "\u001b[1m30/30\u001b[0m \u001b[32m━━━━━━━━━━━━━━━━━━━━\u001b[0m\u001b[37m\u001b[0m \u001b[1m0s\u001b[0m 11ms/step - binary_accuracy: 0.8958 - loss: 0.3401 - val_binary_accuracy: 0.8789 - val_loss: 0.3188\n",
      "Epoch 3/20\n",
      "\u001b[1m30/30\u001b[0m \u001b[32m━━━━━━━━━━━━━━━━━━━━\u001b[0m\u001b[37m\u001b[0m \u001b[1m0s\u001b[0m 12ms/step - binary_accuracy: 0.9211 - loss: 0.2445 - val_binary_accuracy: 0.8908 - val_loss: 0.2825\n",
      "Epoch 4/20\n",
      "\u001b[1m30/30\u001b[0m \u001b[32m━━━━━━━━━━━━━━━━━━━━\u001b[0m\u001b[37m\u001b[0m \u001b[1m0s\u001b[0m 12ms/step - binary_accuracy: 0.9378 - loss: 0.1955 - val_binary_accuracy: 0.8893 - val_loss: 0.2756\n",
      "Epoch 5/20\n",
      "\u001b[1m30/30\u001b[0m \u001b[32m━━━━━━━━━━━━━━━━━━━━\u001b[0m\u001b[37m\u001b[0m \u001b[1m0s\u001b[0m 12ms/step - binary_accuracy: 0.9471 - loss: 0.1632 - val_binary_accuracy: 0.8893 - val_loss: 0.2781\n",
      "Epoch 6/20\n",
      "\u001b[1m30/30\u001b[0m \u001b[32m━━━━━━━━━━━━━━━━━━━━\u001b[0m\u001b[37m\u001b[0m \u001b[1m0s\u001b[0m 13ms/step - binary_accuracy: 0.9561 - loss: 0.1398 - val_binary_accuracy: 0.8852 - val_loss: 0.2923\n",
      "Epoch 7/20\n",
      "\u001b[1m30/30\u001b[0m \u001b[32m━━━━━━━━━━━━━━━━━━━━\u001b[0m\u001b[37m\u001b[0m \u001b[1m0s\u001b[0m 11ms/step - binary_accuracy: 0.9625 - loss: 0.1190 - val_binary_accuracy: 0.8833 - val_loss: 0.2960\n",
      "Epoch 8/20\n",
      "\u001b[1m30/30\u001b[0m \u001b[32m━━━━━━━━━━━━━━━━━━━━\u001b[0m\u001b[37m\u001b[0m \u001b[1m0s\u001b[0m 11ms/step - binary_accuracy: 0.9706 - loss: 0.1014 - val_binary_accuracy: 0.8851 - val_loss: 0.3087\n",
      "Epoch 9/20\n",
      "\u001b[1m30/30\u001b[0m \u001b[32m━━━━━━━━━━━━━━━━━━━━\u001b[0m\u001b[37m\u001b[0m \u001b[1m0s\u001b[0m 11ms/step - binary_accuracy: 0.9787 - loss: 0.0831 - val_binary_accuracy: 0.8836 - val_loss: 0.3222\n",
      "Epoch 10/20\n",
      "\u001b[1m30/30\u001b[0m \u001b[32m━━━━━━━━━━━━━━━━━━━━\u001b[0m\u001b[37m\u001b[0m \u001b[1m0s\u001b[0m 13ms/step - binary_accuracy: 0.9809 - loss: 0.0731 - val_binary_accuracy: 0.8752 - val_loss: 0.3480\n",
      "Epoch 11/20\n",
      "\u001b[1m30/30\u001b[0m \u001b[32m━━━━━━━━━━━━━━━━━━━━\u001b[0m\u001b[37m\u001b[0m \u001b[1m0s\u001b[0m 12ms/step - binary_accuracy: 0.9845 - loss: 0.0665 - val_binary_accuracy: 0.8676 - val_loss: 0.4111\n",
      "Epoch 12/20\n",
      "\u001b[1m30/30\u001b[0m \u001b[32m━━━━━━━━━━━━━━━━━━━━\u001b[0m\u001b[37m\u001b[0m \u001b[1m0s\u001b[0m 12ms/step - binary_accuracy: 0.9865 - loss: 0.0561 - val_binary_accuracy: 0.8758 - val_loss: 0.3776\n",
      "Epoch 13/20\n",
      "\u001b[1m30/30\u001b[0m \u001b[32m━━━━━━━━━━━━━━━━━━━━\u001b[0m\u001b[37m\u001b[0m \u001b[1m0s\u001b[0m 12ms/step - binary_accuracy: 0.9919 - loss: 0.0441 - val_binary_accuracy: 0.8612 - val_loss: 0.4530\n",
      "Epoch 14/20\n",
      "\u001b[1m30/30\u001b[0m \u001b[32m━━━━━━━━━━━━━━━━━━━━\u001b[0m\u001b[37m\u001b[0m \u001b[1m0s\u001b[0m 13ms/step - binary_accuracy: 0.9911 - loss: 0.0412 - val_binary_accuracy: 0.8757 - val_loss: 0.4195\n",
      "Epoch 15/20\n",
      "\u001b[1m30/30\u001b[0m \u001b[32m━━━━━━━━━━━━━━━━━━━━\u001b[0m\u001b[37m\u001b[0m \u001b[1m0s\u001b[0m 12ms/step - binary_accuracy: 0.9935 - loss: 0.0346 - val_binary_accuracy: 0.8730 - val_loss: 0.4437\n",
      "Epoch 16/20\n",
      "\u001b[1m30/30\u001b[0m \u001b[32m━━━━━━━━━━━━━━━━━━━━\u001b[0m\u001b[37m\u001b[0m \u001b[1m0s\u001b[0m 11ms/step - binary_accuracy: 0.9959 - loss: 0.0280 - val_binary_accuracy: 0.8734 - val_loss: 0.4713\n",
      "Epoch 17/20\n",
      "\u001b[1m30/30\u001b[0m \u001b[32m━━━━━━━━━━━━━━━━━━━━\u001b[0m\u001b[37m\u001b[0m \u001b[1m0s\u001b[0m 12ms/step - binary_accuracy: 0.9973 - loss: 0.0225 - val_binary_accuracy: 0.8707 - val_loss: 0.4985\n",
      "Epoch 18/20\n",
      "\u001b[1m30/30\u001b[0m \u001b[32m━━━━━━━━━━━━━━━━━━━━\u001b[0m\u001b[37m\u001b[0m \u001b[1m0s\u001b[0m 12ms/step - binary_accuracy: 0.9983 - loss: 0.0193 - val_binary_accuracy: 0.8666 - val_loss: 0.5491\n",
      "Epoch 19/20\n",
      "\u001b[1m30/30\u001b[0m \u001b[32m━━━━━━━━━━━━━━━━━━━━\u001b[0m\u001b[37m\u001b[0m \u001b[1m0s\u001b[0m 12ms/step - binary_accuracy: 0.9976 - loss: 0.0195 - val_binary_accuracy: 0.8713 - val_loss: 0.5461\n",
      "Epoch 20/20\n",
      "\u001b[1m30/30\u001b[0m \u001b[32m━━━━━━━━━━━━━━━━━━━━\u001b[0m\u001b[37m\u001b[0m \u001b[1m0s\u001b[0m 12ms/step - binary_accuracy: 0.9988 - loss: 0.0141 - val_binary_accuracy: 0.8628 - val_loss: 0.5913\n"
     ]
    }
   ],
   "source": [
    "history = model.fit(\n",
    "    partial_X_train,\n",
    "    partial_Y_train,\n",
    "    epochs=20,\n",
    "    batch_size=512,\n",
    "    validation_data=(X_val, Y_val)\n",
    ")"
   ]
  },
  {
   "cell_type": "code",
   "execution_count": 26,
   "id": "f94fca67",
   "metadata": {},
   "outputs": [
    {
     "data": {
      "text/plain": [
       "dict_keys(['binary_accuracy', 'loss', 'val_binary_accuracy', 'val_loss'])"
      ]
     },
     "execution_count": 26,
     "metadata": {},
     "output_type": "execute_result"
    }
   ],
   "source": [
    "# Now that we have trained our network, we will observe its performance metrics stored in the History object.\n",
    "\n",
    "# Calling the fit method returns a History object. \n",
    "# This object has an sttribute history which is a dictionary containing four enteries: one per monitored metric.\n",
    "history_dict = history.history\n",
    "history_dict.keys()"
   ]
  },
  {
   "cell_type": "code",
   "execution_count": 27,
   "id": "672ee8f0",
   "metadata": {},
   "outputs": [],
   "source": [
    "# history_dict contains values of\n",
    "\n",
    "# Training loss\n",
    "# Trainining Accuracy\n",
    "# Validation Loss\n",
    "# Validation Accuracy\n",
    "# at the end of each epoch.\n",
    "\n",
    "# Let's use Matplotlib to plot Training and validation losses and Traing and Validation Accuracy side by side."
   ]
  },
  {
   "cell_type": "code",
   "execution_count": 28,
   "id": "c8939029",
   "metadata": {},
   "outputs": [
    {
     "data": {
      "image/png": "[encoded data removed]",
      "text/plain": [
       "<Figure size 640x480 with 1 Axes>"
      ]
     },
     "metadata": {},
     "output_type": "display_data"
    }
   ],
   "source": [
    "# Plotting losses\n",
    "loss_values = history_dict['loss']\n",
    "val_loss_values = history_dict['val_loss']\n",
    "\n",
    "epochs = range(1, len(loss_values) + 1)\n",
    "\n",
    "plt.plot(epochs, loss_values, 'g', label=\"Training Loss\")\n",
    "plt.plot(epochs, val_loss_values, 'b', label=\"Validation Loss\")\n",
    "\n",
    "plt.title('Training and Validation Loss')\n",
    "plt.xlabel('Epochs')\n",
    "plt.ylabel('Loss Value')\n",
    "plt.legend()\n",
    "\n",
    "plt.show()"
   ]
  },
  {
   "cell_type": "code",
   "execution_count": 29,
   "id": "22e89901",
   "metadata": {},
   "outputs": [
    {
     "data": {
      "image/png": "[encoded data removed]",
      "text/plain": [
       "<Figure size 640x480 with 1 Axes>"
      ]
     },
     "metadata": {},
     "output_type": "display_data"
    }
   ],
   "source": [
    "# Training and Validation Accuracy\n",
    "\n",
    "acc_values = history_dict['binary_accuracy']\n",
    "val_acc_values = history_dict['val_binary_accuracy']\n",
    "\n",
    "epochs = range(1, len(loss_values) + 1)\n",
    "\n",
    "plt.plot(epochs, acc_values, 'g', label=\"Training Accuracy\")\n",
    "plt.plot(epochs, val_acc_values, 'b', label=\"Validation Accuracy\")\n",
    "\n",
    "plt.title('Training and Validation Accuraccy')\n",
    "plt.xlabel('Epochs')\n",
    "plt.ylabel('Accuracy')\n",
    "plt.legend()\n",
    "\n",
    "plt.show()"
   ]
  },
  {
   "cell_type": "code",
   "execution_count": 30,
   "id": "ef0e8092",
   "metadata": {},
   "outputs": [],
   "source": [
    "# We observe that minimum validation loss and maximum validation Accuracy is achived at around 3-5 epochs. .\n",
    "\n",
    "# After that we observe 2 trends:\n",
    "#     => increase in validation loss and decrese in training loss\n",
    "#     => decrease in validation accuracy and increase in training accuracy\n",
    "# This implies that the model is getting better at classifying the sentiment of the training data, \n",
    "# but making consistently worse predictions when it encounters new, previously unseed data. \n",
    "# This is the hallmark of Overfitting. After the 5th epoch the model begins to fit too closely to the trainning data.\n",
    "\n",
    "# To address overfitting, we will reduce the number of epochs to somewhere between 3 and 5. \n",
    "# These results may vary depending on your machine and due to the very nature of the random assignment of weights \n",
    "# that may vary from model to mode.\n",
    "\n",
    "# In our case we will stop training after 3 epochs."
   ]
  },
  {
   "cell_type": "code",
   "execution_count": 31,
   "id": "b62dd9e9",
   "metadata": {},
   "outputs": [
    {
     "name": "stdout",
     "output_type": "stream",
     "text": [
      "Epoch 1/3\n",
      "\u001b[1m30/30\u001b[0m \u001b[32m━━━━━━━━━━━━━━━━━━━━\u001b[0m\u001b[37m\u001b[0m \u001b[1m1s\u001b[0m 21ms/step - binary_accuracy: 0.9990 - loss: 0.0127 - val_binary_accuracy: 0.8676 - val_loss: 0.5974\n",
      "Epoch 2/3\n",
      "\u001b[1m30/30\u001b[0m \u001b[32m━━━━━━━━━━━━━━━━━━━━\u001b[0m\u001b[37m\u001b[0m \u001b[1m0s\u001b[0m 12ms/step - binary_accuracy: 0.9985 - loss: 0.0112 - val_binary_accuracy: 0.8679 - val_loss: 0.6180\n",
      "Epoch 3/3\n",
      "\u001b[1m30/30\u001b[0m \u001b[32m━━━━━━━━━━━━━━━━━━━━\u001b[0m\u001b[37m\u001b[0m \u001b[1m0s\u001b[0m 11ms/step - binary_accuracy: 0.9999 - loss: 0.0066 - val_binary_accuracy: 0.8661 - val_loss: 0.6351\n"
     ]
    },
    {
     "data": {
      "text/plain": [
       "<keras.src.callbacks.history.History at 0x17ec1d43f40>"
      ]
     },
     "execution_count": 31,
     "metadata": {},
     "output_type": "execute_result"
    }
   ],
   "source": [
    "# Retraining our model\n",
    "\n",
    "model.fit(\n",
    "    partial_X_train,\n",
    "    partial_Y_train,\n",
    "    epochs=3,\n",
    "    batch_size=512,\n",
    "    validation_data=(X_val, Y_val)\n",
    ")"
   ]
  },
  {
   "cell_type": "code",
   "execution_count": 32,
   "id": "44888654",
   "metadata": {},
   "outputs": [
    {
     "name": "stdout",
     "output_type": "stream",
     "text": [
      "\u001b[1m782/782\u001b[0m \u001b[32m━━━━━━━━━━━━━━━━━━━━\u001b[0m\u001b[37m\u001b[0m \u001b[1m1s\u001b[0m 2ms/step\n"
     ]
    }
   ],
   "source": [
    "# Model Evaluation\n",
    "\n",
    "# Making Predictions for testing data\n",
    "np.set_printoptions(suppress=True)\n",
    "result = model.predict(X_test)"
   ]
  },
  {
   "cell_type": "code",
   "execution_count": 33,
   "id": "e16abc0a",
   "metadata": {},
   "outputs": [
    {
     "data": {
      "text/plain": [
       "array([[0.00600097],\n",
       "       [0.9999996 ],\n",
       "       [0.9710827 ],\n",
       "       ...,\n",
       "       [0.0010987 ],\n",
       "       [0.00676375],\n",
       "       [0.9467268 ]], dtype=float32)"
      ]
     },
     "execution_count": 33,
     "metadata": {},
     "output_type": "execute_result"
    }
   ],
   "source": [
    "result"
   ]
  },
  {
   "cell_type": "code",
   "execution_count": 34,
   "id": "9a5a6275",
   "metadata": {},
   "outputs": [],
   "source": [
    "Y_pred = np.zeros(len(result))\n",
    "for i, score in enumerate(result):\n",
    "    Y_pred[i] = np.round(score)"
   ]
  },
  {
   "cell_type": "code",
   "execution_count": 35,
   "id": "ace02fa1",
   "metadata": {},
   "outputs": [
    {
     "data": {
      "text/plain": [
       "<tf.Tensor: shape=(), dtype=float32, numpy=0.14312>"
      ]
     },
     "execution_count": 35,
     "metadata": {},
     "output_type": "execute_result"
    }
   ],
   "source": [
    "mae = metrics.mean_absolute_error(Y_pred, Y_test)\n",
    "mae"
   ]
  }
 ],
 "metadata": {
  "kernelspec": {
   "display_name": "Python 3 (ipykernel)",
   "language": "python",
   "name": "python3"
  },
  "language_info": {
   "codemirror_mode": {
    "name": "ipython",
    "version": 3
   },
   "file_extension": ".py",
   "mimetype": "text/x-python",
   "name": "python",
   "nbconvert_exporter": "python",
   "pygments_lexer": "ipython3",
   "version": "3.10.9"
  }
 },
 "nbformat": 4,
 "nbformat_minor": 5
}
